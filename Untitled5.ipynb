{
  "nbformat": 4,
  "nbformat_minor": 0,
  "metadata": {
    "colab": {
      "provenance": [],
      "authorship_tag": "ABX9TyO2bCGze0vRj2IIlprOdGCy",
      "include_colab_link": true
    },
    "kernelspec": {
      "name": "python3",
      "display_name": "Python 3"
    },
    "language_info": {
      "name": "python"
    }
  },
  "cells": [
    {
      "cell_type": "markdown",
      "metadata": {
        "id": "view-in-github",
        "colab_type": "text"
      },
      "source": [
        "<a href=\"https://colab.research.google.com/github/renesalasperea-design/while/blob/main/Untitled5.ipynb\" target=\"_parent\"><img src=\"https://colab.research.google.com/assets/colab-badge.svg\" alt=\"Open In Colab\"/></a>"
      ]
    },
    {
      "cell_type": "code",
      "source": [
        "# sintaxis del comando while en python:\n",
        "# Estructura general:\n",
        "# while condition:\n",
        "#   # code to execute while the condition is true\n",
        "# else:\n",
        "#   # (optional) code to execute when the condition is no longer true\n",
        "\n",
        "# ejemplo practico 1: Contador simple\n",
        "contador = 1\n",
        "while contador <= 5:\n",
        "  print(\"Numer:\", contador)\n",
        "  contador += 1\n",
        "else:\n",
        "  print(\"el ciclo ha terminado.\")\n",
        "\n",
        "# Ejemplo practico 2: uso con entrada del usuario\n",
        "contraseña = \"\"\n",
        "while contraseña != \"1234\":\n",
        "  contraseña = input(\"ingrese la contraseña:\")\n",
        "print(\"!Acceso concedido!\")"
      ],
      "metadata": {
        "colab": {
          "base_uri": "https://localhost:8080/"
        },
        "id": "cGFmBcSaTn8-",
        "outputId": "25d10190-d0b8-4d88-a62f-c78397bf64a5"
      },
      "execution_count": 39,
      "outputs": [
        {
          "output_type": "stream",
          "name": "stdout",
          "text": [
            "Numer: 1\n",
            "Numer: 2\n",
            "Numer: 3\n",
            "Numer: 4\n",
            "Numer: 5\n",
            "el ciclo ha terminado.\n",
            "ingrese la contraseña:1234\n",
            "!Acceso concedido!\n"
          ]
        }
      ]
    }
  ]
}